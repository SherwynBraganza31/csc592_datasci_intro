{
 "cells": [
  {
   "cell_type": "markdown",
   "id": "d005ecdf",
   "metadata": {},
   "source": [
    "# Assignment 4\n",
    "\n",
    "## Sherwyn Braganza | Isaac McClanahan"
   ]
  },
  {
   "cell_type": "markdown",
   "id": "8a98f4f1",
   "metadata": {},
   "source": [
    "**1) Use the make_moons dataset from scikit-learn with 500 samples, noise = 0.1 to make an artificial data-set.  This is a 2 class data-set.**"
   ]
  },
  {
   "cell_type": "code",
   "execution_count": null,
   "id": "a9c6ea4b",
   "metadata": {},
   "outputs": [],
   "source": [
    "from sklearn import datasets\n",
    "import matplotlib.pyplot as plt\n",
    "\n",
    "\n",
    "features, targets = datasets.make_moons(n_samples=500, shuffle=True, noise=0.1)"
   ]
  },
  {
   "cell_type": "markdown",
   "id": "871877b5",
   "metadata": {},
   "source": [
    "**2) Split this into training and validation data (no test data necessary here.**"
   ]
  },
  {
   "cell_type": "code",
   "execution_count": null,
   "id": "712402cc",
   "metadata": {},
   "outputs": [],
   "source": [
    "x_train, y_train = features[0:400], targets[0:400]\n",
    "x_val, y_val = features[400:], targets[400:]"
   ]
  },
  {
   "cell_type": "markdown",
   "id": "3c845758",
   "metadata": {},
   "source": [
    "**3) Plot both the training and validation datasets.**"
   ]
  },
  {
   "cell_type": "code",
   "execution_count": null,
   "id": "ccde7be2",
   "metadata": {},
   "outputs": [],
   "source": [
    "fig, axs = plt.subplots(1,2)\n",
    "axs[0].scatter(x_train[:,0], x_train[:,1], c=y_train)\n",
    "axs[0].set_title('Train Data')\n",
    "axs[1].scatter(x_val[:,0], x_val[:,1], c=y_val)\n",
    "axs[1].set_title('Validation Data')\n",
    "fig.set_figwidth(20)\n",
    "fig.set_figheight(8)\n",
    "fig.show()"
   ]
  },
  {
   "cell_type": "markdown",
   "id": "c4d6cff5",
   "metadata": {},
   "source": [
    "**4) Implement a neural network model (that has reasonable performance) using the Sequential API.**"
   ]
  },
  {
   "cell_type": "code",
   "execution_count": null,
   "id": "5d522c3d",
   "metadata": {},
   "outputs": [],
   "source": [
    "from tensorflow import keras\n",
    "from tensorflow.keras import layers\n",
    "\n",
    "model_sequential = keras.Sequential(name=\"my_example_model\")\n",
    "model_sequential.add(layers.Dense(64, activation=\"relu\", name=\"my_first_layer\"))\n",
    "model_sequential.add(layers.Dense(32, activation=\"relu\", name=\"my_second_layer\"))\n",
    "model_sequential.add(layers.Dense(1, activation=\"sigmoid\", name=\"my_last_layer\"))\n",
    "model_sequential.build(input_shape=(None, 2))\n",
    "model_sequential.compile(optimizer=\"rmsprop\", loss=\"binary_crossentropy\", metrics=[\"accuracy\"])\n",
    "model_sequential.fit(x_train, y_train, epochs=150, batch_size=100, validation_data=(x_val, y_val))"
   ]
  },
  {
   "cell_type": "markdown",
   "id": "5d37bf7c",
   "metadata": {},
   "source": [
    "**5) Plot the loss (of both training and validation) over the training epochs.**"
   ]
  },
  {
   "cell_type": "code",
   "execution_count": null,
   "id": "209f2ddb",
   "metadata": {},
   "outputs": [],
   "source": [
    "sequential_history = model_sequential.history.history\n",
    "\n",
    "epochs = range(1, len(sequential_history['loss']) + 1)\n",
    "\n",
    "fig, axs = plt.subplots(2)\n",
    "axs[0].plot(epochs, sequential_history['loss'],\n",
    "            label=\"Training loss\", color = 'red', linestyle='--', marker = '^')\n",
    "axs[0].plot(epochs, sequential_history['val_loss'],\n",
    "            label=\"Validation loss\", color = 'green', linestyle='--', marker = '^')\n",
    "axs[0].set_title('Train Loss vs. Validation Loss')\n",
    "axs[1].plot(epochs, sequential_history['accuracy'],\n",
    "            label=\"Training Accuracy\", color = 'red', linestyle='--', marker = 'o')\n",
    "axs[1].plot(epochs, sequential_history['val_accuracy'],\n",
    "            label=\"Validation Accuracy\", color = 'green', linestyle='--', marker = 'o')\n",
    "axs[1].set_title('Train Accuracy vs. Validation Accuracy')\n",
    "fig.set_figwidth(20)\n",
    "fig.set_figheight(20)\n",
    "fig.legend()\n",
    "fig.show()"
   ]
  },
  {
   "cell_type": "markdown",
   "id": "67be947d",
   "metadata": {},
   "source": [
    "**6) Plot the data _and_ the decision regions together on a new plot.**"
   ]
  },
  {
   "cell_type": "code",
   "execution_count": null,
   "id": "452a36fd",
   "metadata": {},
   "outputs": [],
   "source": [
    "import numpy as np\n",
    "res = 400\n",
    "\n",
    "plt.rcParams[\"figure.figsize\"] = (10, 8)\n",
    "\n",
    "def addColor( values ):\n",
    "    colors = []\n",
    "    for i in values:\n",
    "        if i < 0.5:\n",
    "            colors.append(\"green\")\n",
    "        else:\n",
    "            colors.append(\"orange\")\n",
    "    return colors\n",
    "\n",
    "def desi\n",
    "\n",
    "\"\"\"\n",
    "# Make meshgrid of xy points\n",
    "xx, yy = np.meshgrid(np.linspace(-1.5, 2.5, res), np.linspace(-1, 1.5, res), indexing=\"xy\")\n",
    "xy = np.dstack((xx, yy))\n",
    "\n",
    "# Make meshgrid of equal size containing predictions\n",
    "zz = np.ndarray((res, res))\n",
    "for i in range(0, res):\n",
    "    zz[i] = model_sequential(xy[i])[:, 0]\n",
    "\"\"\"\n",
    "\n",
    "# Graph decision regions\n",
    "plt.contourf(xx, yy, zz, levels=8)\n",
    "\n",
    "# predictions_sequential = np.round(model_sequential.predict(x_val))\n",
    "xx, yy= np.meshgrid(features[:,0], features[:,1], sparse=True)\n",
    "plt.scatter(xx, yy, c=addColor( model_sequential.predict(features) ) )\n",
    "\n",
    "\n",
    "plt.show()"
   ]
  },
  {
   "cell_type": "code",
   "execution_count": null,
   "id": "30e38cf7-f895-4d6a-b36d-ecfaad66b390",
   "metadata": {},
   "outputs": [],
   "source": []
  }
 ],
 "metadata": {
  "kernelspec": {
   "display_name": "Python 3",
   "language": "python",
   "name": "python3"
  },
  "language_info": {
   "codemirror_mode": {
    "name": "ipython",
    "version": 3
   },
   "file_extension": ".py",
   "mimetype": "text/x-python",
   "name": "python",
   "nbconvert_exporter": "python",
   "pygments_lexer": "ipython3",
   "version": "3.6.13"
  }
 },
 "nbformat": 4,
 "nbformat_minor": 5
}
